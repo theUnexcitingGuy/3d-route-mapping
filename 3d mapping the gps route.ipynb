{
 "cells": [
  {
   "cell_type": "code",
   "execution_count": 1,
   "metadata": {},
   "outputs": [],
   "source": [
    "import ipyvolume as ipv\n",
    "import numpy as np\n",
    "from time import sleep\n",
    "import pandas as pd"
   ]
  },
  {
   "cell_type": "code",
   "execution_count": 2,
   "metadata": {},
   "outputs": [],
   "source": [
    "#getting real data\n",
    "coordinates = np.array(["insert here your geo-coordinates"]
  },
  {
   "cell_type": "code",
   "execution_count": 3,
   "metadata": {},
   "outputs": [],
   "source": [
    "x_coordinates = coordinates[0::3]\n",
    "y_coordinates = coordinates[1::3]\n",
    "z_coordinates = coordinates[2::3]\n",
    "\n",
    "#crate dataframe with coordinates\n",
    "data1 = pd.DataFrame({'x' : x_coordinates, 'y' : y_coordinates, 'z' : z_coordinates})"
   ]
  },
  {
   "cell_type": "code",
   "execution_count": 4,
   "metadata": {},
   "outputs": [
    {
     "data": {
      "application/vnd.jupyter.widget-view+json": {
       "model_id": "ea8527360da04ea194fb07045cf62b07",
       "version_major": 2,
       "version_minor": 0
      },
      "text/plain": [
       "VBox(children=(Figure(camera=PerspectiveCamera(fov=46.0, position=(0.0, 0.0, 2.0), quaternion=(0.0, 0.0, 0.0, …"
      ]
     },
     "metadata": {},
     "output_type": "display_data"
    }
   ],
   "source": [
    "fig = ipv.figure()\n",
    "scatter = ipv.scatter(data1['x'], data1['y'], data1['z'], marker = 'sphere')\n",
    "ipv.xlim(1051800, 1053900)\n",
    "ipv.ylim(4384000, 4384500)\n",
    "ipv.show()"
   ]
  },
  {
   "cell_type": "code",
   "execution_count": null,
   "metadata": {},
   "outputs": [
    {
     "data": {
      "application/vnd.jupyter.widget-view+json": {
       "model_id": "99653b3e658e41c48f2dd43c3d963d1f",
       "version_major": 2,
       "version_minor": 0
      },
      "text/plain": [
       "Figure(camera=PerspectiveCamera(fov=46.0, position=(0.0, 0.0, 2.0), quaternion=(0.0, 0.0, 0.0, 1.0), scale=(1.…"
      ]
     },
     "metadata": {},
     "output_type": "display_data"
    },
    {
     "name": "stdout",
     "output_type": "stream",
     "text": ["gps coordinates are printed here"]
    }
   ],
   "source": [
    "#this code updates real time the graph\n",
    "x,y,z = np.array([[0.], [0.],[0.]])\n",
    "\n",
    "a=0\n",
    "fig = ipv.figure()\n",
    "ipv.xlim(1051800, 1053900)\n",
    "ipv.ylim(4384000, 4384500)\n",
    "display(ipv.gcf())\n",
    "while a < len(data1['x']):\n",
    "    x[0]+= (data1['x'][a]-x[0])\n",
    "    print(x[0])\n",
    "    z[0]+= data1['z'][a] - z[0]\n",
    "    print(z[0])\n",
    "    y[0]+= data1['y'][a] - y[0]\n",
    "    print(y[0])\n",
    "    a+=1\n",
    "    ipv.scatter(x,y,z, marker = 'sphere')\n",
    "    #ipv.style.use(['dark', 'minimal']) #this removes the box and turns the box black\n",
    "    ipv.style.use(['minimal'])\n",
    "    sleep(0.5)"
   ]
  },
  {
   "cell_type": "code",
   "execution_count": null,
   "metadata": {},
   "outputs": [],
   "source": []
  }
 ],
 "metadata": {
  "kernelspec": {
   "display_name": "Python 3",
   "language": "python",
   "name": "python3"
  },
  "language_info": {
   "codemirror_mode": {
    "name": "ipython",
    "version": 3
   },
   "file_extension": ".py",
   "mimetype": "text/x-python",
   "name": "python",
   "nbconvert_exporter": "python",
   "pygments_lexer": "ipython3",
   "version": "3.7.3"
  }
 },
 "nbformat": 4,
 "nbformat_minor": 2
}
